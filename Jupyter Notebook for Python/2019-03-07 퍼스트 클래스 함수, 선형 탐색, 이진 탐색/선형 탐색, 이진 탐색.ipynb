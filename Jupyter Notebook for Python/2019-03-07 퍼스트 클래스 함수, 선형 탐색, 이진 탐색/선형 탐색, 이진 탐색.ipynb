{
 "cells": [
  {
   "cell_type": "code",
   "execution_count": 1,
   "metadata": {},
   "outputs": [],
   "source": [
    "li = [5, 7, 2, 8, 3, 9, 1]"
   ]
  },
  {
   "cell_type": "code",
   "execution_count": 2,
   "metadata": {},
   "outputs": [],
   "source": [
    "def linear_search(li, target):\n",
    "    \"\"\"\n",
    "    linear_search(li, target) -> index\n",
    "    반환값은 target의 index 없으면 None\n",
    "    \"\"\"\n",
    "    \n",
    "    for i in range(len(li)):\n",
    "        if li[i] == target:\n",
    "            return i\n",
    "        return None\n",
    "        "
   ]
  },
  {
   "cell_type": "code",
   "execution_count": 3,
   "metadata": {},
   "outputs": [],
   "source": [
    "linear_search(li, 1)"
   ]
  },
  {
   "cell_type": "code",
   "execution_count": 4,
   "metadata": {},
   "outputs": [
    {
     "name": "stdout",
     "output_type": "stream",
     "text": [
      "0\n"
     ]
    }
   ],
   "source": [
    "# 입력으로 들어오는 데이터는 반드시 정렬되어있는 상태여야함\n",
    "def binary_search(li, target):\n",
    "    \"\"\"\n",
    "    linear_search(li, target) -> index\n",
    "    반환값은 target의 index 없으면 None\n",
    "    \"\"\"\n",
    "    start = 0\n",
    "    end = len(li)-1\n",
    "    \n",
    "    while start <= end:\n",
    "        mid = (start + end)//2\n",
    "        if target == li[mid]:\n",
    "            return mid-1\n",
    "        \n",
    "#         elif target == li[start]:\n",
    "#             return start\n",
    "        \n",
    "#         elif target == li[end]:\n",
    "#             return end\n",
    "        \n",
    "        elif target < li[mid]:\n",
    "            end = mid-1\n",
    "\n",
    "        elif target > li[mid]:\n",
    "            start = mid+1\n",
    "    \n",
    "    return None\n",
    "\n",
    "li = [i for i in range(100)]\n",
    "print(binary_search(li, 1))\n",
    "\n",
    "        "
   ]
  },
  {
   "cell_type": "code",
   "execution_count": 5,
   "metadata": {},
   "outputs": [
    {
     "data": {
      "text/plain": [
       "0"
      ]
     },
     "execution_count": 5,
     "metadata": {},
     "output_type": "execute_result"
    }
   ],
   "source": [
    "li[0]"
   ]
  }
 ],
 "metadata": {
  "kernelspec": {
   "display_name": "Python 3",
   "language": "python",
   "name": "python3"
  },
  "language_info": {
   "codemirror_mode": {
    "name": "ipython",
    "version": 3
   },
   "file_extension": ".py",
   "mimetype": "text/x-python",
   "name": "python",
   "nbconvert_exporter": "python",
   "pygments_lexer": "ipython3",
   "version": "3.7.2"
  }
 },
 "nbformat": 4,
 "nbformat_minor": 2
}
