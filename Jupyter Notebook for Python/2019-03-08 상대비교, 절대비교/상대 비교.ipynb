{
 "cells": [
  {
   "cell_type": "markdown",
   "metadata": {},
   "source": [
    "# relativie error = fabs(a-b)/max(fabs(a), fabs(b))\n",
    "## 숫자가 크던 작던 비율로 만들수 있음"
   ]
  },
  {
   "cell_type": "code",
   "execution_count": 4,
   "metadata": {},
   "outputs": [],
   "source": [
    "a = 0.1 *3\n",
    "b = 0.3"
   ]
  },
  {
   "cell_type": "markdown",
   "metadata": {},
   "source": [
    "# 만약 두 수의 차이(fabs)가 1e-10 보다 작거나 같으면 True\n",
    "# 두수의 차이가 절대값을 취한 두 수 중에서 큰 수에 1e-8를 곱한 값보다 작거나 같다면 True 아니면 False"
   ]
  },
  {
   "cell_type": "code",
   "execution_count": 40,
   "metadata": {},
   "outputs": [],
   "source": [
    "from math import fabs\n",
    "import sys\n",
    "def is_equal(a, b, w=0):\n",
    "    \"\"\"\n",
    "    is_equal(a, b, w=0) -> bool\n",
    "    w는 가중치 입니다.\n",
    "    w를 0부터 늘려가며 상대 오차 범위를 조정해주세요\n",
    "    \"\"\"\n",
    "    ep = sys.float_info.epsilon\n",
    "    diff = fabs(a-b)\n",
    "    \n",
    "    return diff <= max(fabs(a), fabs(b))*ep*(2**w)\n",
    "\n"
   ]
  },
  {
   "cell_type": "code",
   "execution_count": 53,
   "metadata": {},
   "outputs": [
    {
     "name": "stdout",
     "output_type": "stream",
     "text": [
      "things\n"
     ]
    }
   ],
   "source": [
    "print('things') if is_equal(a, b) else print(\"안되 돌아가\")\n",
    "    "
   ]
  },
  {
   "cell_type": "code",
   "execution_count": 54,
   "metadata": {},
   "outputs": [
    {
     "data": {
      "text/plain": [
       "2.220446049250313e-16"
      ]
     },
     "execution_count": 54,
     "metadata": {},
     "output_type": "execute_result"
    }
   ],
   "source": [
    "sys.float_info.epsilon"
   ]
  },
  {
   "cell_type": "code",
   "execution_count": null,
   "metadata": {},
   "outputs": [],
   "source": []
  }
 ],
 "metadata": {
  "kernelspec": {
   "display_name": "Python 3",
   "language": "python",
   "name": "python3"
  },
  "language_info": {
   "codemirror_mode": {
    "name": "ipython",
    "version": 3
   },
   "file_extension": ".py",
   "mimetype": "text/x-python",
   "name": "python",
   "nbconvert_exporter": "python",
   "pygments_lexer": "ipython3",
   "version": "3.7.2"
  }
 },
 "nbformat": 4,
 "nbformat_minor": 2
}
