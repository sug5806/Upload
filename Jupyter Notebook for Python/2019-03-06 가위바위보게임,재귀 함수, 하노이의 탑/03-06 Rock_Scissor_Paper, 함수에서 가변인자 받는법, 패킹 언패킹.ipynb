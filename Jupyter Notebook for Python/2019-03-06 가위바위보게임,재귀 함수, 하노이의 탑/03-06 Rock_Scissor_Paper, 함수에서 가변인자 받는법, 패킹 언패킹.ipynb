{
 "cells": [
  {
   "cell_type": "code",
   "execution_count": 2,
   "metadata": {},
   "outputs": [],
   "source": [
    "def func(a, b):\n",
    "    \"\"\"\n",
    "    func(integer, integer) -> integer\n",
    "    두 인트값을 인자로 받고 \n",
    "    결과는 두 값을 더한 값\n",
    "    \"\"\"\n",
    "    return a + b"
   ]
  },
  {
   "cell_type": "code",
   "execution_count": 4,
   "metadata": {},
   "outputs": [
    {
     "name": "stdout",
     "output_type": "stream",
     "text": [
      "무엇이든 입력하세요 : 아하하하하\n"
     ]
    }
   ],
   "source": [
    "input_data = input(\"무엇이든 입력하세요 : \"  )"
   ]
  },
  {
   "cell_type": "code",
   "execution_count": 5,
   "metadata": {},
   "outputs": [
    {
     "data": {
      "text/plain": [
       "'아하하하하'"
      ]
     },
     "execution_count": 5,
     "metadata": {},
     "output_type": "execute_result"
    }
   ],
   "source": [
    "input_data"
   ]
  },
  {
   "cell_type": "code",
   "execution_count": 6,
   "metadata": {},
   "outputs": [
    {
     "name": "stdout",
     "output_type": "stream",
     "text": [
      "숫자를 입력하세요 : 6\n"
     ]
    }
   ],
   "source": [
    "data  = int(input(\"숫자를 입력하세요 : \"))"
   ]
  },
  {
   "cell_type": "code",
   "execution_count": 8,
   "metadata": {},
   "outputs": [
    {
     "data": {
      "text/plain": [
       "int"
      ]
     },
     "execution_count": 8,
     "metadata": {},
     "output_type": "execute_result"
    }
   ],
   "source": [
    "type(data)"
   ]
  },
  {
   "cell_type": "code",
   "execution_count": 1,
   "metadata": {},
   "outputs": [],
   "source": [
    "def get_player_choice():\n",
    "    \"\"\"\n",
    "    get_player_choice() -> string\n",
    "    string : {'바위', '가위', '보'}\n",
    "    결과값이 위 세 값 중 하나임을 보장\n",
    "    \"\"\"\n",
    "    while True:\n",
    "        choice = input(\"바위, 가위, 보 중에서 하나를 입력하세요. : \")\n",
    "        if choice == \"바위\" or choice == \"보\" or choice == \"가위\":\n",
    "            return choice"
   ]
  },
  {
   "cell_type": "code",
   "execution_count": 3,
   "metadata": {},
   "outputs": [
    {
     "name": "stdout",
     "output_type": "stream",
     "text": [
      "바위, 가위, 보 중에서 하나를 입력하세요. : 123\n",
      "바위, 가위, 보 중에서 하나를 입력하세요. : ㅋㅌㅊㅍ\n",
      "바위, 가위, 보 중에서 하나를 입력하세요. : 보\n"
     ]
    },
    {
     "data": {
      "text/plain": [
       "'보'"
      ]
     },
     "execution_count": 3,
     "metadata": {},
     "output_type": "execute_result"
    }
   ],
   "source": [
    "data = get_player_choice()\n",
    "data"
   ]
  },
  {
   "cell_type": "code",
   "execution_count": 6,
   "metadata": {},
   "outputs": [],
   "source": [
    "import random"
   ]
  },
  {
   "cell_type": "code",
   "execution_count": 7,
   "metadata": {},
   "outputs": [],
   "source": [
    "\n",
    "def get_computer_choice():\n",
    "    \"\"\"\n",
    "    get_computer_choice() -> string\n",
    "    string : {'바위', '가위', '보'}\n",
    "    \"\"\"\n",
    "    ran = random.randint(0,2)\n",
    "    m = ('바위', '가위', '보')\n",
    "    return m[ran]"
   ]
  },
  {
   "cell_type": "code",
   "execution_count": 8,
   "metadata": {},
   "outputs": [
    {
     "data": {
      "text/plain": [
       "'바위'"
      ]
     },
     "execution_count": 8,
     "metadata": {},
     "output_type": "execute_result"
    }
   ],
   "source": [
    "get_computer_choice()"
   ]
  },
  {
   "cell_type": "code",
   "execution_count": null,
   "metadata": {},
   "outputs": [
    {
     "name": "stdout",
     "output_type": "stream",
     "text": [
      "1 : 3판 2선승,   2 : 5판 3선승 : 1\n"
     ]
    }
   ],
   "source": [
    "# 모듈(module) --> 파이썬 파일 random.py\n",
    "import random\n",
    "\n",
    "# win_list = ['player', 'player', 'computer']\n",
    "\n",
    "winner_list = []\n",
    "\n",
    "\n",
    "def get_player_choice():\n",
    "    \"\"\"\n",
    "    get_player_choice() -> string\n",
    "    string : {'바위', '가위', '보'}\n",
    "    결과값이 위 세 값 중 하나임을 보장\n",
    "    \"\"\"\n",
    "    while True:\n",
    "        choice = input(\"바위, 가위, 보 중에서 하나를 입력하세요. : \")\n",
    "        if choice == \"바위\" or choice == \"보\" or choice == \"가위\":\n",
    "            return choice\n",
    "\n",
    "\n",
    "def get_computer_choice():\n",
    "    \"\"\"\n",
    "    get_computer_choice() -> string\n",
    "    string : {'바위', '가위', '보'}\n",
    "    \"\"\"\n",
    "    ran = random.randint(0, 2)\n",
    "    m = ('바위', '가위', '보')\n",
    "    choice = m[ran]\n",
    "    return choice\n",
    "\n",
    "\n",
    "def who_wins(player, computer):\n",
    "    \"\"\"\n",
    "    who_wins(player : int, computer : int) -> string\n",
    "    string ={'player', 'computer', 'draw'}\n",
    "    \"\"\"\n",
    "    print(\"유저 : {} ---- 컴퓨터 : {}\".format(player, computer))\n",
    "    if player == computer:\n",
    "        return \"draw\"\n",
    "    elif (player == \"바위\" and computer == \"가위\") or (player == \"보\" and computer == \"바위\") or (player == \"가위\" and computer == \"보\"):\n",
    "        return \"player\"\n",
    "    elif (player == \"바위\" and computer == \"보\") or (player == \"보\" and computer == \"가위\") or (player == \"가위\" and computer == \"바위\"):\n",
    "        return \"computer\"\n",
    "\n",
    "\n",
    "def play_one():\n",
    "    \"\"\"\n",
    "    play_one() -> string\n",
    "    string = {'player', 'computer'}\n",
    "    한판에 대해서 \n",
    "    플레이어가 이기면 \"플레이어 승\" 출력\n",
    "    컴퓨터가 이기면 \"컴퓨터 승\" 출력\n",
    "    비기면 \"무승부\" 출력\n",
    "    \"\"\"\n",
    "    while True:\n",
    "        player = get_player_choice()\n",
    "        computer = get_computer_choice()\n",
    "        winner = who_wins(player, computer)\n",
    "        if winner == \"player\":\n",
    "            print(\"플레이어 승!\")\n",
    "            return \"player\"\n",
    "        elif winner == \"computer\":\n",
    "            print(\"컴퓨터 승!\")\n",
    "            return \"computer\"\n",
    "        elif winner == \"draw\":\n",
    "            print(\"무승부!\")\n",
    "            pass\n",
    "        \n",
    "def select():\n",
    "    try:\n",
    "        select = int(input(\"1 : 3판 2선승,   2 : 5판 3선승 : \"))\n",
    "        while select != 1 or select != 2:\n",
    "            try:\n",
    "                select = int(input(\"다시 입력해주세요 : \"))\n",
    "                print(\"다시 입력을 해주세요\")\n",
    "            \n",
    "            except ValueError:\n",
    "                select = 3\n",
    "    except ValueError:\n",
    "        select()\n",
    "\n",
    "def play():\n",
    "    \n",
    "    num_guess = select()\n",
    "           \n",
    "    for _ in range(num_guess):\n",
    "        winner_list.append(play_one())\n",
    "        print(\"스코어 : user -- {}, computer -- {}\".format(winner_list.count(\"player\"), winner_list.count(\"computer\")))\n",
    "        if winner_list.count(\"player\") >= num_guess//2+1:\n",
    "            print(\"최종승자 : user\")\n",
    "            return\n",
    "        elif winner_list.count(\"computer\") >= num_guess//2+1:\n",
    "            print(\"최종승자 : computer\")\n",
    "            return\n",
    "\n",
    "\n",
    "play()"
   ]
  },
  {
   "cell_type": "markdown",
   "metadata": {},
   "source": [
    "# Continue"
   ]
  },
  {
   "cell_type": "code",
   "execution_count": 99,
   "metadata": {},
   "outputs": [
    {
     "name": "stdout",
     "output_type": "stream",
     "text": [
      "10\n",
      "happy\n",
      "8\n",
      "happy\n",
      "6\n",
      "happy\n",
      "4\n",
      "happy\n"
     ]
    }
   ],
   "source": [
    "a = 10\n",
    "while a > 3:\n",
    "    if a % 2 == 1:\n",
    "        a -= 1\n",
    "        continue\n",
    "    else:\n",
    "        print(a)\n",
    "        a -=1\n",
    "    print(\"happy\")"
   ]
  },
  {
   "cell_type": "markdown",
   "metadata": {},
   "source": [
    "# packing, unpacking"
   ]
  },
  {
   "cell_type": "code",
   "execution_count": 35,
   "metadata": {},
   "outputs": [],
   "source": [
    "container = 1, 2, 3, 4, 5 # 패킹"
   ]
  },
  {
   "cell_type": "code",
   "execution_count": 36,
   "metadata": {},
   "outputs": [
    {
     "data": {
      "text/plain": [
       "(1, 2, 3, 4, 5)"
      ]
     },
     "execution_count": 36,
     "metadata": {},
     "output_type": "execute_result"
    }
   ],
   "source": [
    "container"
   ]
  },
  {
   "cell_type": "code",
   "execution_count": 38,
   "metadata": {},
   "outputs": [],
   "source": [
    "a, b, c, d, e = container # 언패킹"
   ]
  },
  {
   "cell_type": "code",
   "execution_count": 39,
   "metadata": {},
   "outputs": [
    {
     "data": {
      "text/plain": [
       "(1, 2, 3, 4, 5)"
      ]
     },
     "execution_count": 39,
     "metadata": {},
     "output_type": "execute_result"
    }
   ],
   "source": [
    "a, b, c, d, e"
   ]
  },
  {
   "cell_type": "code",
   "execution_count": 42,
   "metadata": {},
   "outputs": [],
   "source": [
    "a, b, *c = container # *을 이용해 언패킹을 하면 리스트로 반환"
   ]
  },
  {
   "cell_type": "code",
   "execution_count": 41,
   "metadata": {},
   "outputs": [
    {
     "data": {
      "text/plain": [
       "[3, 4, 5]"
      ]
     },
     "execution_count": 41,
     "metadata": {},
     "output_type": "execute_result"
    }
   ],
   "source": [
    "c"
   ]
  },
  {
   "cell_type": "markdown",
   "metadata": {},
   "source": [
    "# 함수에서 가변인자 받는 방법"
   ]
  },
  {
   "cell_type": "code",
   "execution_count": 1,
   "metadata": {},
   "outputs": [],
   "source": [
    "def sum_int(*args, **kwargs): # 모든 인자를 다 받을 수 있음\n",
    "#     s = 0\n",
    "#     for args in args:\n",
    "#         s += args\n",
    "#     return s\n",
    "    print (args)\n",
    "    print (kwargs)"
   ]
  },
  {
   "cell_type": "code",
   "execution_count": 76,
   "metadata": {},
   "outputs": [
    {
     "name": "stdout",
     "output_type": "stream",
     "text": [
      "15\n"
     ]
    }
   ],
   "source": [
    "print(sum_int(1, 2, 3, 4, 5))"
   ]
  },
  {
   "cell_type": "code",
   "execution_count": 3,
   "metadata": {},
   "outputs": [],
   "source": [
    "li = [3, 4, 5, 6]"
   ]
  },
  {
   "cell_type": "code",
   "execution_count": 4,
   "metadata": {},
   "outputs": [
    {
     "name": "stdout",
     "output_type": "stream",
     "text": [
      "(3, 4, 5, 6)\n",
      "{}\n"
     ]
    }
   ],
   "source": [
    "sum_int(*li) # 변수를 넘겨줄때 *을 쓰면 언패킹을 하겠다"
   ]
  },
  {
   "cell_type": "code",
   "execution_count": 87,
   "metadata": {},
   "outputs": [
    {
     "name": "stdout",
     "output_type": "stream",
     "text": [
      "(1, 2, 3)\n",
      "{'age': 100, 'weight': 100}\n"
     ]
    }
   ],
   "source": [
    "sum_int(1, 2, 3, age = 100, weight=100)"
   ]
  },
  {
   "cell_type": "code",
   "execution_count": 5,
   "metadata": {},
   "outputs": [],
   "source": [
    "li = [3, 4, 5, 6]\n",
    "dic = {'a' : 1, 'b' : 2}"
   ]
  },
  {
   "cell_type": "code",
   "execution_count": 6,
   "metadata": {},
   "outputs": [
    {
     "name": "stdout",
     "output_type": "stream",
     "text": [
      "(3, 4, 5, 6)\n",
      "{'a': 1, 'b': 2}\n"
     ]
    }
   ],
   "source": [
    "sum_int(*li, **dic)"
   ]
  },
  {
   "cell_type": "markdown",
   "metadata": {},
   "source": [
    "# 삼항 연산자"
   ]
  },
  {
   "cell_type": "code",
   "execution_count": 1,
   "metadata": {},
   "outputs": [
    {
     "name": "stdout",
     "output_type": "stream",
     "text": [
      "good\n"
     ]
    }
   ],
   "source": [
    "a = 10 \n",
    "if a >= 10:\n",
    "    print('good')\n",
    "else:\n",
    "    print('bad')"
   ]
  },
  {
   "cell_type": "code",
   "execution_count": 2,
   "metadata": {},
   "outputs": [
    {
     "name": "stdout",
     "output_type": "stream",
     "text": [
      "good\n"
     ]
    }
   ],
   "source": [
    "print('good') if a >= 10 else print('bad!') # 실행될 것을 앞에다 써줌(if) else는 뒤에것을 써줌"
   ]
  },
  {
   "cell_type": "code",
   "execution_count": null,
   "metadata": {},
   "outputs": [],
   "source": []
  }
 ],
 "metadata": {
  "kernelspec": {
   "display_name": "Python 3",
   "language": "python",
   "name": "python3"
  },
  "language_info": {
   "codemirror_mode": {
    "name": "ipython",
    "version": 3
   },
   "file_extension": ".py",
   "mimetype": "text/x-python",
   "name": "python",
   "nbconvert_exporter": "python",
   "pygments_lexer": "ipython3",
   "version": "3.7.2"
  }
 },
 "nbformat": 4,
 "nbformat_minor": 2
}
