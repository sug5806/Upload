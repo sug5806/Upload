{
 "cells": [
  {
   "cell_type": "code",
   "execution_count": 3,
   "metadata": {},
   "outputs": [
    {
     "name": "stdout",
     "output_type": "stream",
     "text": [
      "1번째 원반을 B로 이동\n",
      "2번째 원반을 C로 이동\n",
      "1번째 원반을 C로 이동\n"
     ]
    }
   ],
   "source": [
    "n = 0 \n",
    "a = \"A\" # 출발\n",
    "b = \"B\" # 중간\n",
    "c = \"C\" # 도착\n",
    "\n",
    "def hanoi(n, a, b, c):\n",
    "    if n == 1:\n",
    "        print(\"{}번째 원반을 {}로 이동\".format(n, c))\n",
    "        return \n",
    "\n",
    "    hanoi(n-1, a, c, b)\n",
    "    print(\"{}번째 원반을 {}로 이동\".format(n, c))\n",
    "    hanoi(n-1, b, a, c)\n",
    "\n",
    "hanoi(2, a, b, c)"
   ]
  },
  {
   "cell_type": "code",
   "execution_count": null,
   "metadata": {},
   "outputs": [],
   "source": []
  },
  {
   "cell_type": "code",
   "execution_count": 1,
   "metadata": {},
   "outputs": [
    {
     "name": "stdout",
     "output_type": "stream",
     "text": [
      "A에서 C로 1번째 쟁반이동\n",
      "A에서 B로 2번째 쟁반이동\n",
      "C에서 B로 1번째 쟁반이동\n",
      "A에서 C로 3번째 쟁반이동\n",
      "B에서 A로 1번째 쟁반이동\n",
      "B에서 C로 2번째 쟁반이동\n",
      "A에서 C로 1번째 쟁반이동\n"
     ]
    }
   ],
   "source": [
    "def hanoi(num, _from, _by, _to):\n",
    "    # 탈출 조건\n",
    "    if num == 1:\n",
    "        print(f'{_from}에서 {_to}로 {num}번째 쟁반이동')\n",
    "        return \n",
    "    \n",
    "    hanoi(num-1, _from, _to, _by)\n",
    "    print(f'{_from}에서 {_to}로 {num}번째 쟁반이동')\n",
    "    hanoi(num-1, _by, _from, _to)\n",
    "    \n",
    "hanoi(3, 'A', 'B', 'C')"
   ]
  },
  {
   "cell_type": "code",
   "execution_count": null,
   "metadata": {},
   "outputs": [],
   "source": []
  }
 ],
 "metadata": {
  "kernelspec": {
   "display_name": "Python 3",
   "language": "python",
   "name": "python3"
  },
  "language_info": {
   "codemirror_mode": {
    "name": "ipython",
    "version": 3
   },
   "file_extension": ".py",
   "mimetype": "text/x-python",
   "name": "python",
   "nbconvert_exporter": "python",
   "pygments_lexer": "ipython3",
   "version": "3.7.2"
  }
 },
 "nbformat": 4,
 "nbformat_minor": 2
}
