{
 "cells": [
  {
   "cell_type": "markdown",
   "metadata": {},
   "source": [
    "# 기존 자료구조를 이용해 새로운 자료구조를 만드는 것\n",
    "# 어댑터(adapter) - 새로운 자료구조\n",
    "# 컨테이너(container) - 기존의 자료구조"
   ]
  },
  {
   "cell_type": "code",
   "execution_count": 2,
   "metadata": {},
   "outputs": [
    {
     "ename": "SyntaxError",
     "evalue": "invalid syntax (<ipython-input-2-3a17feb3ce1b>, line 7)",
     "output_type": "error",
     "traceback": [
      "\u001b[1;36m  File \u001b[1;32m\"<ipython-input-2-3a17feb3ce1b>\"\u001b[1;36m, line \u001b[1;32m7\u001b[0m\n\u001b[1;33m    return True if not self else return False\u001b[0m\n\u001b[1;37m                                      ^\u001b[0m\n\u001b[1;31mSyntaxError\u001b[0m\u001b[1;31m:\u001b[0m invalid syntax\n"
     ]
    }
   ],
   "source": [
    "class My_Stack:\n",
    "    def __init__(self):\n",
    "        self.container=list()\n",
    "        \n",
    "    def empty(self):\n",
    "        \"\"\"\n",
    "        s.empty() -> bool\n",
    "        만약 스택에 요소가 있다면 False\n",
    "        아니면 True\n",
    "        \"\"\"\n",
    "        return True if self.container ==  else return False\n",
    "            \n",
    "    def push(self, data): # 내가 구현한 push는 어댑터 / 기존에 있는 append를 컨테이너\n",
    "        \"\"\"\n",
    "        s.push(data) -> None\n",
    "        리스트의 append 함수를 이용해서 구현 \n",
    "        \"\"\"\n",
    "        self.container.append(data)\n",
    "        \n",
    "    def pop(self):\n",
    "        \"\"\"\n",
    "        s.pop() -> data\n",
    "        스택의 맨 꼭대기 값을 반환하면서 삭제\n",
    "        리스트의 pop 함수를 이용해서 구현\n",
    "        \"\"\"\n",
    "        return self.container.pop()\n",
    "        \n",
    "    \n",
    "    def peek(self):\n",
    "        \"\"\"\n",
    "        s.peek() -> data\n",
    "        스택의 맨 꼭대기 값을 반환만 함\n",
    "        \"\"\"\n",
    "        return self.container[-1]"
   ]
  },
  {
   "cell_type": "code",
   "execution_count": null,
   "metadata": {},
   "outputs": [],
   "source": []
  },
  {
   "cell_type": "code",
   "execution_count": null,
   "metadata": {},
   "outputs": [],
   "source": []
  },
  {
   "cell_type": "code",
   "execution_count": null,
   "metadata": {},
   "outputs": [],
   "source": []
  }
 ],
 "metadata": {
  "kernelspec": {
   "display_name": "Python 3",
   "language": "python",
   "name": "python3"
  },
  "language_info": {
   "codemirror_mode": {
    "name": "ipython",
    "version": 3
   },
   "file_extension": ".py",
   "mimetype": "text/x-python",
   "name": "python",
   "nbconvert_exporter": "python",
   "pygments_lexer": "ipython3",
   "version": "3.7.2"
  }
 },
 "nbformat": 4,
 "nbformat_minor": 2
}
