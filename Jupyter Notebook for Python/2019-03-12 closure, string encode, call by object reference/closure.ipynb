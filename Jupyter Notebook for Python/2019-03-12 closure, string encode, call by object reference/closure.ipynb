{
 "cells": [
  {
   "cell_type": "markdown",
   "metadata": {},
   "source": [
    "# closure\n",
    "## 함수 내부에 상태 정보(state info)를 가지고 있다\n",
    "## 상태정보 --> 관련있는 데이터\n",
    "## class를 사용할 수 없을때 주로 씀"
   ]
  },
  {
   "cell_type": "code",
   "execution_count": 3,
   "metadata": {},
   "outputs": [],
   "source": [
    "# 계좌\n",
    "def account(clnt_name, balance):  # clnt_name과 balance가 상태정보 (free variable) \n",
    "    def change_money(money):\n",
    "        nonlocal balance\n",
    "        balance += money\n",
    "        return (clnt_name, balance)\n",
    "    return change_money\n",
    "# 기존의 함수는 input이 같으면 output이 같았으나 초기값(상태정보)에 따라 input이 같아도 output이 달라짐\n",
    "# input이 아닌 상태정보에 의존적임"
   ]
  },
  {
   "cell_type": "code",
   "execution_count": 4,
   "metadata": {},
   "outputs": [],
   "source": [
    "my_account = account(\"김기동\", 5000)"
   ]
  },
  {
   "cell_type": "code",
   "execution_count": 5,
   "metadata": {},
   "outputs": [],
   "source": [
    "your_account = account(\"마틴루터킹\", 3000)\n"
   ]
  },
  {
   "cell_type": "code",
   "execution_count": 6,
   "metadata": {},
   "outputs": [
    {
     "data": {
      "text/plain": [
       "'change_money'"
      ]
     },
     "execution_count": 6,
     "metadata": {},
     "output_type": "execute_result"
    }
   ],
   "source": [
    "my_account.__name__"
   ]
  },
  {
   "cell_type": "code",
   "execution_count": 7,
   "metadata": {},
   "outputs": [
    {
     "data": {
      "text/plain": [
       "('김기동', 8000)"
      ]
     },
     "execution_count": 7,
     "metadata": {},
     "output_type": "execute_result"
    }
   ],
   "source": [
    "my_account(3000)"
   ]
  },
  {
   "cell_type": "code",
   "execution_count": 8,
   "metadata": {},
   "outputs": [
    {
     "data": {
      "text/plain": [
       "('마틴루터킹', 4000)"
      ]
     },
     "execution_count": 8,
     "metadata": {},
     "output_type": "execute_result"
    }
   ],
   "source": [
    "your_account(1000)"
   ]
  },
  {
   "cell_type": "markdown",
   "metadata": {},
   "source": [
    "# 파이썬 내부구조"
   ]
  },
  {
   "cell_type": "code",
   "execution_count": 36,
   "metadata": {},
   "outputs": [],
   "source": [
    "# 함수를 부르면 스택프레임에 쌓이고 함수가 종료되면 사라지는데 그러면 데이터는 어디에 저장되어 있는가?\n",
    "# 클로저는 스택이 아니라 힙에 저장됨"
   ]
  },
  {
   "cell_type": "code",
   "execution_count": 10,
   "metadata": {
    "scrolled": true
   },
   "outputs": [
    {
     "data": {
      "text/plain": [
       "(<cell at 0x0128F110: int object at 0x0603D860>,\n",
       " <cell at 0x0128F130: str object at 0x01202E58>)"
      ]
     },
     "execution_count": 10,
     "metadata": {},
     "output_type": "execute_result"
    }
   ],
   "source": [
    "my_account.__closure__"
   ]
  },
  {
   "cell_type": "code",
   "execution_count": 25,
   "metadata": {},
   "outputs": [],
   "source": [
    "cells = your_account.__closure__"
   ]
  },
  {
   "cell_type": "code",
   "execution_count": 26,
   "metadata": {},
   "outputs": [
    {
     "name": "stdout",
     "output_type": "stream",
     "text": [
      "4000\n",
      "마틴루터킹\n"
     ]
    }
   ],
   "source": [
    "for cell in cells:\n",
    "        print(cell.cell_contents)"
   ]
  }
 ],
 "metadata": {
  "kernelspec": {
   "display_name": "Python 3",
   "language": "python",
   "name": "python3"
  },
  "language_info": {
   "codemirror_mode": {
    "name": "ipython",
    "version": 3
   },
   "file_extension": ".py",
   "mimetype": "text/x-python",
   "name": "python",
   "nbconvert_exporter": "python",
   "pygments_lexer": "ipython3",
   "version": "3.6.7"
  }
 },
 "nbformat": 4,
 "nbformat_minor": 2
}
