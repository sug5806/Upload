{
 "cells": [
  {
   "cell_type": "code",
   "execution_count": 19,
   "metadata": {},
   "outputs": [
    {
     "name": "stdout",
     "output_type": "stream",
     "text": [
      "[888, 38, 657, 852, 285, 353, 261, 658, 68, 182]\n",
      "[38, 68, 182, 261, 285, 353, 657, 658, 852, 888]\n"
     ]
    }
   ],
   "source": [
    "import random\n",
    "li = []\n",
    "for i in range(10):\n",
    "    li.append(random.randint(0,1000))\n",
    "\n",
    "def bubble_sort(li):\n",
    "    for i in range(len(li)-1, 0, -1):\n",
    "        for j in range(i):\n",
    "            if li[j] > li[j+1]:\n",
    "                li[j] , li[j+1] = li[j+1], li[j]\n",
    "    return li\n",
    "print(li)\n",
    "print (bubble_sort(li))\n",
    "                "
   ]
  },
  {
   "cell_type": "code",
   "execution_count": 29,
   "metadata": {},
   "outputs": [
    {
     "name": "stdout",
     "output_type": "stream",
     "text": [
      "[37, 96, 80, 157, 339, 399, 424, 840, 298, 954]\n"
     ]
    }
   ],
   "source": [
    "import random\n",
    "li = []\n",
    "for i in range(10):\n",
    "    li.append(random.randint(0,1000))\n",
    "\n",
    "def bubble_sort(li):\n",
    "    n = len(li)\n",
    "    for i in range(n-1):\n",
    "        for j in range(n-1-i):\n",
    "            if li[j] > li[j+1]:\n",
    "                li[j] , li[j+1] = li[j+1], li[j]\n",
    "    return li\n",
    "    \n",
    "print(bubble_sort(li))"
   ]
  }
 ],
 "metadata": {
  "kernelspec": {
   "display_name": "Python 3",
   "language": "python",
   "name": "python3"
  },
  "language_info": {
   "codemirror_mode": {
    "name": "ipython",
    "version": 3
   },
   "file_extension": ".py",
   "mimetype": "text/x-python",
   "name": "python",
   "nbconvert_exporter": "python",
   "pygments_lexer": "ipython3",
   "version": "3.7.2"
  }
 },
 "nbformat": 4,
 "nbformat_minor": 2
}
