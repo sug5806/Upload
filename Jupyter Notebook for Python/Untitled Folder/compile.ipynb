{
 "cells": [
  {
   "cell_type": "code",
   "execution_count": 1,
   "metadata": {},
   "outputs": [],
   "source": [
    "import token"
   ]
  },
  {
   "cell_type": "code",
   "execution_count": 2,
   "metadata": {},
   "outputs": [
    {
     "name": "stdout",
     "output_type": "stream",
     "text": [
      "TokenInfo(type=59 (ENCODING), string='utf-8', start=(0, 0), end=(0, 0), line='')\n",
      "TokenInfo(type=1 (NAME), string='def', start=(1, 0), end=(1, 3), line='def func(a, b):\\n')\n",
      "TokenInfo(type=1 (NAME), string='func', start=(1, 4), end=(1, 8), line='def func(a, b):\\n')\n",
      "TokenInfo(type=53 (OP), string='(', start=(1, 8), end=(1, 9), line='def func(a, b):\\n')\n",
      "TokenInfo(type=1 (NAME), string='a', start=(1, 9), end=(1, 10), line='def func(a, b):\\n')\n",
      "TokenInfo(type=53 (OP), string=',', start=(1, 10), end=(1, 11), line='def func(a, b):\\n')\n",
      "TokenInfo(type=1 (NAME), string='b', start=(1, 12), end=(1, 13), line='def func(a, b):\\n')\n",
      "TokenInfo(type=53 (OP), string=')', start=(1, 13), end=(1, 14), line='def func(a, b):\\n')\n",
      "TokenInfo(type=53 (OP), string=':', start=(1, 14), end=(1, 15), line='def func(a, b):\\n')\n",
      "TokenInfo(type=4 (NEWLINE), string='\\n', start=(1, 15), end=(1, 16), line='def func(a, b):\\n')\n",
      "TokenInfo(type=5 (INDENT), string='    ', start=(2, 0), end=(2, 4), line='    return a + b\\n')\n",
      "TokenInfo(type=1 (NAME), string='return', start=(2, 4), end=(2, 10), line='    return a + b\\n')\n",
      "TokenInfo(type=1 (NAME), string='a', start=(2, 11), end=(2, 12), line='    return a + b\\n')\n",
      "TokenInfo(type=53 (OP), string='+', start=(2, 13), end=(2, 14), line='    return a + b\\n')\n",
      "TokenInfo(type=1 (NAME), string='b', start=(2, 15), end=(2, 16), line='    return a + b\\n')\n",
      "TokenInfo(type=4 (NEWLINE), string='\\n', start=(2, 16), end=(2, 17), line='    return a + b\\n')\n",
      "TokenInfo(type=58 (NL), string='\\n', start=(3, 0), end=(3, 1), line='\\n')\n",
      "TokenInfo(type=6 (DEDENT), string='', start=(4, 0), end=(4, 0), line='a = 10\\n')\n",
      "TokenInfo(type=1 (NAME), string='a', start=(4, 0), end=(4, 1), line='a = 10\\n')\n",
      "TokenInfo(type=53 (OP), string='=', start=(4, 2), end=(4, 3), line='a = 10\\n')\n",
      "TokenInfo(type=2 (NUMBER), string='10', start=(4, 4), end=(4, 6), line='a = 10\\n')\n",
      "TokenInfo(type=4 (NEWLINE), string='\\n', start=(4, 6), end=(4, 7), line='a = 10\\n')\n",
      "TokenInfo(type=1 (NAME), string='b', start=(5, 0), end=(5, 1), line='b = 20\\n')\n",
      "TokenInfo(type=53 (OP), string='=', start=(5, 2), end=(5, 3), line='b = 20\\n')\n",
      "TokenInfo(type=2 (NUMBER), string='20', start=(5, 4), end=(5, 6), line='b = 20\\n')\n",
      "TokenInfo(type=4 (NEWLINE), string='\\n', start=(5, 6), end=(5, 7), line='b = 20\\n')\n",
      "TokenInfo(type=58 (NL), string='\\n', start=(6, 0), end=(6, 1), line='\\n')\n",
      "TokenInfo(type=1 (NAME), string='c', start=(7, 0), end=(7, 1), line='c = func(a, b)\\n')\n",
      "TokenInfo(type=53 (OP), string='=', start=(7, 2), end=(7, 3), line='c = func(a, b)\\n')\n",
      "TokenInfo(type=1 (NAME), string='func', start=(7, 4), end=(7, 8), line='c = func(a, b)\\n')\n",
      "TokenInfo(type=53 (OP), string='(', start=(7, 8), end=(7, 9), line='c = func(a, b)\\n')\n",
      "TokenInfo(type=1 (NAME), string='a', start=(7, 9), end=(7, 10), line='c = func(a, b)\\n')\n",
      "TokenInfo(type=53 (OP), string=',', start=(7, 10), end=(7, 11), line='c = func(a, b)\\n')\n",
      "TokenInfo(type=1 (NAME), string='b', start=(7, 12), end=(7, 13), line='c = func(a, b)\\n')\n",
      "TokenInfo(type=53 (OP), string=')', start=(7, 13), end=(7, 14), line='c = func(a, b)\\n')\n",
      "TokenInfo(type=4 (NEWLINE), string='\\n', start=(7, 14), end=(7, 15), line='c = func(a, b)\\n')\n",
      "TokenInfo(type=1 (NAME), string='print', start=(8, 0), end=(8, 5), line='print(c)')\n",
      "TokenInfo(type=53 (OP), string='(', start=(8, 5), end=(8, 6), line='print(c)')\n",
      "TokenInfo(type=1 (NAME), string='c', start=(8, 6), end=(8, 7), line='print(c)')\n",
      "TokenInfo(type=53 (OP), string=')', start=(8, 7), end=(8, 8), line='print(c)')\n",
      "TokenInfo(type=4 (NEWLINE), string='', start=(8, 8), end=(8, 9), line='')\n",
      "TokenInfo(type=0 (ENDMARKER), string='', start=(9, 0), end=(9, 0), line='')\n"
     ]
    }
   ],
   "source": [
    "from tokenize import tokenize\n",
    "from io import BytesIO\n",
    "s = open('test.py').read()\n",
    "g = tokenize(BytesIO(s.encode('utf-8')).readline)\n",
    "for token in g:\n",
    "    print(token)"
   ]
  },
  {
   "cell_type": "code",
   "execution_count": 4,
   "metadata": {},
   "outputs": [
    {
     "name": "stdout",
     "output_type": "stream",
     "text": [
      "<_ast.Module object at 0x7f6bc854ab38>\n",
      "<_ast.FunctionDef object at 0x7f6bc854a518>\n",
      "<_ast.Assign object at 0x7f6bc854a5c0>\n",
      "<_ast.Assign object at 0x7f6bc854a400>\n",
      "<_ast.Assign object at 0x7f6bc854a588>\n",
      "<_ast.Expr object at 0x7f6bc854a978>\n",
      "<_ast.arguments object at 0x7f6bc854ad30>\n",
      "<_ast.Return object at 0x7f6bc854a828>\n",
      "<_ast.Name object at 0x7f6bc854aac8>\n",
      "<_ast.Num object at 0x7f6bc854aef0>\n",
      "<_ast.Name object at 0x7f6bc854a6d8>\n",
      "<_ast.Num object at 0x7f6bc854acc0>\n",
      "<_ast.Name object at 0x7f6bc854a390>\n",
      "<_ast.Call object at 0x7f6bc854af28>\n",
      "<_ast.Call object at 0x7f6bc854a550>\n",
      "<_ast.arg object at 0x7f6bc854a4e0>\n",
      "<_ast.arg object at 0x7f6bc854a7b8>\n",
      "<_ast.BinOp object at 0x7f6bc854af98>\n",
      "<_ast.Store object at 0x7f6bd0757908>\n",
      "<_ast.Store object at 0x7f6bd0757908>\n",
      "<_ast.Store object at 0x7f6bd0757908>\n",
      "<_ast.Name object at 0x7f6bc854a668>\n",
      "<_ast.Name object at 0x7f6bc854ab70>\n",
      "<_ast.Name object at 0x7f6bc854a940>\n",
      "<_ast.Name object at 0x7f6bc854a2b0>\n",
      "<_ast.Name object at 0x7f6bc854a320>\n",
      "<_ast.Name object at 0x7f6bc854ae80>\n",
      "<_ast.Add object at 0x7f6bd06dc710>\n",
      "<_ast.Name object at 0x7f6bc854a908>\n",
      "<_ast.Load object at 0x7f6bd07577f0>\n",
      "<_ast.Load object at 0x7f6bd07577f0>\n",
      "<_ast.Load object at 0x7f6bd07577f0>\n",
      "<_ast.Load object at 0x7f6bd07577f0>\n",
      "<_ast.Load object at 0x7f6bd07577f0>\n",
      "<_ast.Load object at 0x7f6bd07577f0>\n",
      "<_ast.Load object at 0x7f6bd07577f0>\n"
     ]
    }
   ],
   "source": [
    "#ast\n",
    "import ast\n",
    "#node 생성\n",
    "node = ast.parse(s, 'test.py', 'exec')\n",
    "# yield all descendant nodes\n",
    "g = ast.walk(node)\n",
    "for elem in g:\n",
    "    print(elem)\n"
   ]
  },
  {
   "cell_type": "code",
   "execution_count": 9,
   "metadata": {},
   "outputs": [
    {
     "data": {
      "text/plain": [
       "'top'"
      ]
     },
     "execution_count": 9,
     "metadata": {},
     "output_type": "execute_result"
    }
   ],
   "source": [
    "#symtable\n",
    "import symtable\n",
    "sym = symtable.symtable(s, 'test.py', 'exec')\n",
    "sym.get_name()"
   ]
  },
  {
   "cell_type": "code",
   "execution_count": 10,
   "metadata": {},
   "outputs": [
    {
     "data": {
      "text/plain": [
       "[<symbol 'func'>, <symbol 'a'>, <symbol 'b'>, <symbol 'c'>, <symbol 'print'>]"
      ]
     },
     "execution_count": 10,
     "metadata": {},
     "output_type": "execute_result"
    }
   ],
   "source": [
    "sym.get_symbols()"
   ]
  },
  {
   "cell_type": "code",
   "execution_count": 12,
   "metadata": {},
   "outputs": [],
   "source": [
    "func_sym = sym.get_children()[0]"
   ]
  },
  {
   "cell_type": "code",
   "execution_count": 13,
   "metadata": {},
   "outputs": [
    {
     "data": {
      "text/plain": [
       "[<symbol 'a'>, <symbol 'b'>]"
      ]
     },
     "execution_count": 13,
     "metadata": {},
     "output_type": "execute_result"
    }
   ],
   "source": [
    "func_sym.get_symbols()"
   ]
  },
  {
   "cell_type": "code",
   "execution_count": 15,
   "metadata": {},
   "outputs": [],
   "source": [
    "s=open('test.py').read()"
   ]
  },
  {
   "cell_type": "code",
   "execution_count": 16,
   "metadata": {},
   "outputs": [
    {
     "data": {
      "text/plain": [
       "'def func(a, b):\\n    return a + b\\n\\na = 10\\nb = 20\\n\\nc = func(a, b)\\nprint(c)'"
      ]
     },
     "execution_count": 16,
     "metadata": {},
     "output_type": "execute_result"
    }
   ],
   "source": [
    "s"
   ]
  },
  {
   "cell_type": "code",
   "execution_count": 17,
   "metadata": {},
   "outputs": [],
   "source": [
    "import dis"
   ]
  },
  {
   "cell_type": "code",
   "execution_count": 18,
   "metadata": {},
   "outputs": [
    {
     "name": "stdout",
     "output_type": "stream",
     "text": [
      "LOAD_CONST           <code object func at 0x7f6bc84c5780, file \"<disassembly>\", line 1>\n",
      "LOAD_CONST           func\n",
      "MAKE_FUNCTION        0\n",
      "STORE_NAME           func\n",
      "LOAD_CONST           10\n",
      "STORE_NAME           a\n",
      "LOAD_CONST           20\n",
      "STORE_NAME           b\n",
      "LOAD_NAME            func\n",
      "LOAD_NAME            a\n",
      "LOAD_NAME            b\n",
      "CALL_FUNCTION        2\n",
      "STORE_NAME           c\n",
      "LOAD_NAME            print\n",
      "LOAD_NAME            c\n",
      "CALL_FUNCTION        1\n",
      "POP_TOP              None\n",
      "LOAD_CONST           None\n",
      "RETURN_VALUE         None\n"
     ]
    }
   ],
   "source": [
    "g = dis.get_instructions(s)\n",
    "for inst in g:\n",
    "    print(inst.opname.ljust(20), end = ' ')\n",
    "    print(inst.argval)"
   ]
  },
  {
   "cell_type": "code",
   "execution_count": null,
   "metadata": {},
   "outputs": [],
   "source": []
  }
 ],
 "metadata": {
  "kernelspec": {
   "display_name": "Python 3",
   "language": "python",
   "name": "python3"
  },
  "language_info": {
   "codemirror_mode": {
    "name": "ipython",
    "version": 3
   },
   "file_extension": ".py",
   "mimetype": "text/x-python",
   "name": "python",
   "nbconvert_exporter": "python",
   "pygments_lexer": "ipython3",
   "version": "3.6.7"
  }
 },
 "nbformat": 4,
 "nbformat_minor": 2
}
